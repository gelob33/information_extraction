{
 "cells": [
  {
   "cell_type": "markdown",
   "id": "a9020604",
   "metadata": {},
   "source": [
    "### Langextract Demo\n",
    "https://github.com/google/langextract"
   ]
  },
  {
   "cell_type": "code",
   "execution_count": 66,
   "id": "435198ec",
   "metadata": {},
   "outputs": [
    {
     "data": {
      "text/plain": [
       "True"
      ]
     },
     "execution_count": 66,
     "metadata": {},
     "output_type": "execute_result"
    }
   ],
   "source": [
    "import os\n",
    "from dotenv import load_dotenv\n",
    "import pymupdf4llm\n",
    "import langextract as lx\n",
    "import textwrap\n",
    "\n",
    "load_dotenv(override=True)"
   ]
  },
  {
   "cell_type": "code",
   "execution_count": 67,
   "id": "c576128c",
   "metadata": {},
   "outputs": [
    {
     "name": "stdout",
     "output_type": "stream",
     "text": [
      "### **About** **your policy**\n",
      "\n",
      "Thank you for choosing to insure your\n",
      "motorcycle with us.\n",
      "\n",
      "\n",
      "We’ve designed this document to help you\n",
      "clearly understand the terms of your policy,\n",
      "but if you’re unsure ab\n"
     ]
    }
   ],
   "source": [
    "# load pdf from file\n",
    "file_path = r\"C:\\Users\\aibag\\git_repo\"\n",
    "file_name = \"ami-motorcycle-policy-wording-ami0065-9-0920.pdf\"\n",
    "md_text = pymupdf4llm.to_markdown(os.path.join(file_path, file_name))\n",
    "print(md_text[0:200])"
   ]
  },
  {
   "cell_type": "code",
   "execution_count": 68,
   "id": "8fa1673f",
   "metadata": {},
   "outputs": [],
   "source": [
    "# Define your extraction task\n",
    "\n",
    "\n",
    "# 1. Define the prompt and extraction rules\n",
    "# prompt = textwrap.dedent(\"\"\"\\\n",
    "#     Extract insurance coverage types (base coverage and optional covereage), cover exclusions, cover limits, excesses and general product information in order of appearance.\n",
    "#     Use exact text from the document for extractions. Do not paraphrase or merge entities.\n",
    "#     Provide meaningful attributes for each entity to add context, such as coverage scope, monetary value, or conditions.\n",
    "# \"\"\")\n",
    "\n",
    "prompt = textwrap.dedent(\"\"\"\\\n",
    "    You are an expert general insurance product manager. Your task is to extract specific clauses from an insurance policy document.\n",
    "\n",
    "    Strictly adhere to the following rules:\n",
    "    1. Extract Entities: Identify and extract the following six types of entities: 'base_coverage', 'optional_coverage', 'exclusion', 'limit', 'excess', and 'general_product_information'.\n",
    "    2. Use Exact Text: The `extraction_text` must be an exact quote from the document. Do not paraphrase, summarize, or alter the text.\n",
    "    3. Provide Contextual Attributes: For each extraction, provide meaningful attributes that add context. For example, a limit's value is meaningless without knowing what it applies to.\n",
    "    4. Handle Unspecified Amounts: If a limit or excess amount is mentioned but not specified (e.g., \"as shown in the Policy Schedule\"), capture the reference text in an attribute.\n",
    "\n",
    "    Entity Definitions:\n",
    "    - base_coverage: The primary, standard insurance cover provided by the policy.\n",
    "    - optional_coverage: A non-standard cover requiring purchase or selection, or an elective cover level (e.g., Third Party only).\n",
    "    - exclusion: Specific situations, items, or actions that the policy does not cover. Include carve-outs in attributes if present.\n",
    "    - limit: A monetary cap the insurer will pay for a specific claim type, benefit, item category, or event.\n",
    "    - excess: The amount or rule for what the policyholder must contribute per claim, including special or excess-free provisions.\n",
    "    - general_product_information: General statements about the policy contract, legal terms, cooling-off, duplicate insurance, \n",
    "      change in circumstances, basis of settlement, NHI Act interface, governing law, renewal and cancellation.\n",
    "                         \n",
    "    Return your answer as a JSON object with this format:\n",
    "    {\n",
    "        \"extractions\": [\n",
    "            {\n",
    "                \"extraction_class\": \"exclusion\",\n",
    "                \"extraction_text\": \"exact text from the policy document\",\n",
    "                \"attributes\": {...}\n",
    "            }\n",
    "        ]\n",
    "    }                         \n",
    "\"\"\")\n",
    "\n",
    "\n",
    "\n",
    "# 2. Provide a high-quality example to guide the model\n",
    "examples = [\n",
    "    lx.data.ExampleData(\n",
    "        text=\"We cover sudden and accidental loss to your home that happens during the period of insurance.\",\n",
    "        extractions=[\n",
    "            lx.data.Extraction(\n",
    "                extraction_class=\"base_coverage\",\n",
    "                extraction_text=\"sudden and accidental loss to your home\",\n",
    "                attributes={\n",
    "                    \"scope\": \"during the period of insurance\"\n",
    "                }\n",
    "            )\n",
    "        ]\n",
    "    )\n",
    "]"
   ]
  },
  {
   "cell_type": "code",
   "execution_count": null,
   "id": "21aa3d38",
   "metadata": {},
   "outputs": [],
   "source": [
    "# Run the extraction\n",
    "\n",
    "# The input text to be processed\n",
    "#input_text = \"Lady Juliet gazed longingly at the stars, her heart aching for Romeo\"\n",
    "\n",
    "# Run the extraction\n",
    "# result = lx.extract(\n",
    "#     text_or_documents=input_text,\n",
    "#     prompt_description=prompt,\n",
    "#     examples=examples,\n",
    "#     model_id=\"gemini-2.5-flash\",\n",
    "# )\n",
    "\n",
    "result = lx.extract(\n",
    "    text_or_documents=md_text,\n",
    "    prompt_description=prompt,\n",
    "    examples=examples,\n",
    "    model_id=\"qwen3:4b\",\n",
    "    extraction_passes=1,    # Improves recall through multiple passes\n",
    "    max_workers=5,          # Parallel processing for speed\n",
    "    max_char_buffer=1000,   # Smaller contexts for better accuracy\n",
    "    model_url=\"http://localhost:11434\",\n",
    "    language_model_params={\n",
    "        \"timeout\": 900,\n",
    "        \"temperature\": 0.1,    \n",
    "        \"top_p\": 0.9,\n",
    "        \"format\":\"json\",\n",
    "        \"stream\": False, \n",
    "    },\n",
    "    fence_output=False,          \n",
    "    use_schema_constraints=False \n",
    ")"
   ]
  },
  {
   "cell_type": "code",
   "execution_count": 45,
   "id": "b5a993b2",
   "metadata": {},
   "outputs": [
    {
     "name": "stderr",
     "output_type": "stream",
     "text": [
      "\u001b[94m\u001b[1mLangExtract\u001b[0m: Saving to \u001b[92mextraction_results.jsonl\u001b[0m: 1 docs [00:00, 1452.32 docs/s]"
     ]
    },
    {
     "name": "stdout",
     "output_type": "stream",
     "text": [
      "\u001b[92m✓\u001b[0m Saved \u001b[1m1\u001b[0m documents to \u001b[92mextraction_results.jsonl\u001b[0m\n"
     ]
    },
    {
     "name": "stderr",
     "output_type": "stream",
     "text": [
      "\n",
      "\u001b[94m\u001b[1mLangExtract\u001b[0m: Loading \u001b[92mextraction_results.jsonl\u001b[0m: 100%|█████████▉| 931/932 [00:00<?, ?B/s] "
     ]
    },
    {
     "name": "stdout",
     "output_type": "stream",
     "text": [
      "\u001b[92m✓\u001b[0m Loaded \u001b[1m1\u001b[0m documents from \u001b[92mextraction_results.jsonl\u001b[0m\n"
     ]
    },
    {
     "name": "stderr",
     "output_type": "stream",
     "text": [
      "\n"
     ]
    }
   ],
   "source": [
    "# Visualise the results \n",
    "\n",
    "# Save the results to a JSONL file\n",
    "lx.io.save_annotated_documents([result], output_name=\"extraction_results.jsonl\", output_dir=\".\")\n",
    "\n",
    "# Generate the visualization from the file\n",
    "html_content = lx.visualize(\"extraction_results.jsonl\")\n",
    "\n",
    "with open(\"visualization.html\", \"w\", encoding=\"utf-8\") as f:\n",
    "    if hasattr(html_content, 'data'):\n",
    "        f.write(html_content.data)  # For Jupyter/Colab\n",
    "    else:\n",
    "        f.write(html_content)"
   ]
  },
  {
   "cell_type": "code",
   "execution_count": null,
   "id": "6521f31e",
   "metadata": {},
   "outputs": [],
   "source": []
  },
  {
   "cell_type": "code",
   "execution_count": null,
   "id": "392bbe5c",
   "metadata": {},
   "outputs": [],
   "source": []
  },
  {
   "cell_type": "code",
   "execution_count": 60,
   "id": "f8f55b09",
   "metadata": {},
   "outputs": [
    {
     "name": "stdout",
     "output_type": "stream",
     "text": [
      "Raw model output:\n",
      "{\n",
      "\n",
      "\n",
      "\"question\": \"Why do birds tweet?\",\n",
      "\"answer\": \"Birds tweet as a form of communication. They use their beaks to produce sounds that help them interact with other birds, such as mating, warning of predators, or establishing territory. The specific sounds they make can vary depending on the species and the context.\"\n",
      "}\n"
     ]
    }
   ],
   "source": [
    "import requests\n",
    "\n",
    "def test_ollama_direct():\n",
    "    url = \"http://localhost:11434/api/generate\"\n",
    "    \n",
    "    test_prompt = \"\"\"Why do birds tweet?\"\"\"\n",
    "    \n",
    "    data = {\n",
    "        \"model\": \"qwen3:4b\",\n",
    "        \"prompt\": test_prompt,\n",
    "        \"stream\": False,\n",
    "        \"format\": \"json\",  # Force JSON output\n",
    "        \"options\": {\n",
    "            \"temperature\": 0.1,\n",
    "            \"num_predict\": 200\n",
    "        }\n",
    "    }\n",
    "    \n",
    "    response = requests.post(url, json=data)\n",
    "    result = response.json()\n",
    "    print(\"Raw model output:\")\n",
    "    print(result['response'])\n",
    "\n",
    "\n",
    "test_ollama_direct()"
   ]
  },
  {
   "cell_type": "code",
   "execution_count": null,
   "id": "f961c71a",
   "metadata": {},
   "outputs": [],
   "source": []
  }
 ],
 "metadata": {
  "kernelspec": {
   "display_name": "information-extraction-py3.12",
   "language": "python",
   "name": "python3"
  },
  "language_info": {
   "codemirror_mode": {
    "name": "ipython",
    "version": 3
   },
   "file_extension": ".py",
   "mimetype": "text/x-python",
   "name": "python",
   "nbconvert_exporter": "python",
   "pygments_lexer": "ipython3",
   "version": "3.12.10"
  }
 },
 "nbformat": 4,
 "nbformat_minor": 5
}
